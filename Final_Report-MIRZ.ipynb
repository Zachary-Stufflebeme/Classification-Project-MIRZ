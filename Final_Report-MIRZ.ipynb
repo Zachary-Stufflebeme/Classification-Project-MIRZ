{
 "cells": [
  {
   "cell_type": "markdown",
   "id": "47c30e08-8d2b-4361-bf8b-f1fff2f1bfb8",
   "metadata": {},
   "source": [
    "#                                       How to Stop Telco Churn:                                    "
   ]
  },
  {
   "cell_type": "markdown",
   "id": "dd4c6af2-a022-4578-84d2-d9966eb48b78",
   "metadata": {},
   "source": [
    "### Zachary Stufflebeme"
   ]
  },
  {
   "cell_type": "code",
   "execution_count": 1,
   "id": "fe0d6de9-0782-4d6c-8c99-187ecad19547",
   "metadata": {},
   "outputs": [],
   "source": [
    "#stats model and visualization imports\n",
    "import pandas as pd\n",
    "import numpy as np\n",
    "import warnings\n",
    "warnings.filterwarnings('ignore')\n",
    "from sklearn.tree import DecisionTreeClassifier,plot_tree,export_text\n",
    "from sklearn.metrics import confusion_matrix, classification_report, accuracy_score\n",
    "from sklearn.ensemble import RandomForestClassifier\n",
    "from sklearn.metrics import classification_report, confusion_matrix, ConfusionMatrixDisplay\n",
    "import matplotlib.pyplot as plt\n",
    "from sklearn.neighbors import KNeighborsClassifier\n",
    "from sklearn.linear_model import LogisticRegression\n",
    "import seaborn as sns\n",
    "from sklearn.preprocessing import MinMaxScaler\n",
    "from scipy import stats\n",
    "#custom Imports\n",
    "from Acquire_MIRZ import get_telco_data, new_telco_data\n",
    "from Prepare_MIRZ import prep_telco, split_telco, feat_dist, feat_dist_churn\n"
   ]
  },
  {
   "cell_type": "markdown",
   "id": "fa9744be-3aee-4a03-9614-6dd7907d8953",
   "metadata": {},
   "source": [
    "# Project Plan:"
   ]
  },
  {
   "cell_type": "markdown",
   "id": "34d7031c-75b8-4fbf-a44e-acf8a748e17c",
   "metadata": {},
   "source": [
    "## Acquire:\n",
    "- I will acquire data through functions saved in my acquire.py along with my encrypted credentials."
   ]
  },
  {
   "cell_type": "markdown",
   "id": "9305c789-6e4f-4da4-ae2c-e73d5ff1c01d",
   "metadata": {},
   "source": [
    "## Prepare:\n",
    "Prepare and clean my data in such a way that I can plug it in to my classification models without causing error and with the prepared data still holding true to its original meaning. This includes:\n",
    "   - encoding all categorical variables\n",
    "   - scaling my numeric variables to numbers between 0 and 1\n",
    "   - dropping unnecessary columns\n",
    "   - replacing all nulls for additional services with 0’s to indicate they don’t have the service\n",
    "   - fixing empty string values in total charges with 0’s as these customers havent been charged yet\n",
    "\n"
   ]
  },
  {
   "cell_type": "markdown",
   "id": "2b39d94b-9e96-4419-9b5d-2ca5a5614208",
   "metadata": {},
   "source": [
    "## Explore:\n",
    "- Ask statistical questions of my data and create visualizations of the results in order to improve comprehension by people reading the report without clarifications from my presentation."
   ]
  },
  {
   "cell_type": "markdown",
   "id": "3441ea0c-4f01-47e6-b860-73f4bf8f2a16",
   "metadata": {},
   "source": [
    "## Model:\n",
    "- Create models and adjust parameters to try to accurately predict customer churn, Validate that all of your models are accurate not just on your train data but on outside data as well."
   ]
  },
  {
   "cell_type": "markdown",
   "id": "763366d1-2bc1-413b-a2aa-d27ecb69c756",
   "metadata": {},
   "source": [
    "## Deliver:\n",
    "- Put all of my findings together in a final report where I make things as easy to understand as possible. and create a csv of model predictions"
   ]
  },
  {
   "cell_type": "markdown",
   "id": "20103245-a715-4ef3-ac94-fe9ef6757c48",
   "metadata": {},
   "source": [
    "## Project Summary:\n",
    "- In my project I was able to create 3 models That all performed similarly well and above the baseline. I chose to isolate internet service type id , contract type id , monthly charges , and total charges as my features for my models. My random forest was my best model testing at 80% accurate at predicting customer churn with a 54% recall rate. My main take-aways from my report would be that fiber optic customers churn way more than other internet types, and from those who have fiber optic, customers that are on month to month contracts churn far more than other fiber users. some other take-aways are that I have created a model that is more accurate than the baseline and I have identified some very relevant features which we can manipulate going forward to try and reduce customer churn."
   ]
  },
  {
   "cell_type": "markdown",
   "id": "3f2f6bee-1b44-4d24-a13b-a68c2b62ef93",
   "metadata": {},
   "source": [
    "# Acquire Data:"
   ]
  },
  {
   "cell_type": "markdown",
   "id": "484a62cf-d68b-4783-84e5-69ac97020a81",
   "metadata": {},
   "source": [
    "All of the work here is done externally in my acquire.py file"
   ]
  },
  {
   "cell_type": "code",
   "execution_count": 2,
   "id": "d1bc164f-fc41-4354-8905-f27343de0b9c",
   "metadata": {},
   "outputs": [
    {
     "data": {
      "text/plain": "   Unnamed: 0 customer_id  gender  senior_citizen partner dependents  tenure  \\\n0           0  0002-ORFBO  Female               0     Yes        Yes       9   \n1           1  0003-MKNFE    Male               0      No         No       9   \n2           2  0004-TLHLJ    Male               0      No         No       4   \n3           3  0011-IGKFF    Male               1     Yes         No      13   \n4           4  0013-EXCHZ  Female               1     Yes         No       3   \n\n  phone_service multiple_lines  internet_service_type_id  ...  \\\n0           Yes             No                         1  ...   \n1           Yes            Yes                         1  ...   \n2           Yes             No                         2  ...   \n3           Yes             No                         2  ...   \n4           Yes             No                         2  ...   \n\n           signup_date phone_service.1 multiple_lines.1  \\\n0  2021-04-21 18:07:34             Yes               No   \n1  2021-04-21 18:07:34             Yes              Yes   \n2  2021-09-21 18:07:34             Yes               No   \n3  2020-12-21 18:07:34             Yes               No   \n4  2021-10-21 18:07:34             Yes               No   \n\n  internet_service_type_id.1 online_security.1 online_backup.1  \\\n0                          1                No             Yes   \n1                          1                No              No   \n2                          2                No              No   \n3                          2                No             Yes   \n4                          2                No              No   \n\n   device_protection.1 tech_support.1  streaming_tv.1  streaming_movies.1  \n0                   No            Yes             Yes                  No  \n1                   No             No              No                 Yes  \n2                  Yes             No              No                  No  \n3                  Yes             No             Yes                 Yes  \n4                   No            Yes             Yes                  No  \n\n[5 rows x 42 columns]",
      "text/html": "<div>\n<style scoped>\n    .dataframe tbody tr th:only-of-type {\n        vertical-align: middle;\n    }\n\n    .dataframe tbody tr th {\n        vertical-align: top;\n    }\n\n    .dataframe thead th {\n        text-align: right;\n    }\n</style>\n<table border=\"1\" class=\"dataframe\">\n  <thead>\n    <tr style=\"text-align: right;\">\n      <th></th>\n      <th>Unnamed: 0</th>\n      <th>customer_id</th>\n      <th>gender</th>\n      <th>senior_citizen</th>\n      <th>partner</th>\n      <th>dependents</th>\n      <th>tenure</th>\n      <th>phone_service</th>\n      <th>multiple_lines</th>\n      <th>internet_service_type_id</th>\n      <th>...</th>\n      <th>signup_date</th>\n      <th>phone_service.1</th>\n      <th>multiple_lines.1</th>\n      <th>internet_service_type_id.1</th>\n      <th>online_security.1</th>\n      <th>online_backup.1</th>\n      <th>device_protection.1</th>\n      <th>tech_support.1</th>\n      <th>streaming_tv.1</th>\n      <th>streaming_movies.1</th>\n    </tr>\n  </thead>\n  <tbody>\n    <tr>\n      <th>0</th>\n      <td>0</td>\n      <td>0002-ORFBO</td>\n      <td>Female</td>\n      <td>0</td>\n      <td>Yes</td>\n      <td>Yes</td>\n      <td>9</td>\n      <td>Yes</td>\n      <td>No</td>\n      <td>1</td>\n      <td>...</td>\n      <td>2021-04-21 18:07:34</td>\n      <td>Yes</td>\n      <td>No</td>\n      <td>1</td>\n      <td>No</td>\n      <td>Yes</td>\n      <td>No</td>\n      <td>Yes</td>\n      <td>Yes</td>\n      <td>No</td>\n    </tr>\n    <tr>\n      <th>1</th>\n      <td>1</td>\n      <td>0003-MKNFE</td>\n      <td>Male</td>\n      <td>0</td>\n      <td>No</td>\n      <td>No</td>\n      <td>9</td>\n      <td>Yes</td>\n      <td>Yes</td>\n      <td>1</td>\n      <td>...</td>\n      <td>2021-04-21 18:07:34</td>\n      <td>Yes</td>\n      <td>Yes</td>\n      <td>1</td>\n      <td>No</td>\n      <td>No</td>\n      <td>No</td>\n      <td>No</td>\n      <td>No</td>\n      <td>Yes</td>\n    </tr>\n    <tr>\n      <th>2</th>\n      <td>2</td>\n      <td>0004-TLHLJ</td>\n      <td>Male</td>\n      <td>0</td>\n      <td>No</td>\n      <td>No</td>\n      <td>4</td>\n      <td>Yes</td>\n      <td>No</td>\n      <td>2</td>\n      <td>...</td>\n      <td>2021-09-21 18:07:34</td>\n      <td>Yes</td>\n      <td>No</td>\n      <td>2</td>\n      <td>No</td>\n      <td>No</td>\n      <td>Yes</td>\n      <td>No</td>\n      <td>No</td>\n      <td>No</td>\n    </tr>\n    <tr>\n      <th>3</th>\n      <td>3</td>\n      <td>0011-IGKFF</td>\n      <td>Male</td>\n      <td>1</td>\n      <td>Yes</td>\n      <td>No</td>\n      <td>13</td>\n      <td>Yes</td>\n      <td>No</td>\n      <td>2</td>\n      <td>...</td>\n      <td>2020-12-21 18:07:34</td>\n      <td>Yes</td>\n      <td>No</td>\n      <td>2</td>\n      <td>No</td>\n      <td>Yes</td>\n      <td>Yes</td>\n      <td>No</td>\n      <td>Yes</td>\n      <td>Yes</td>\n    </tr>\n    <tr>\n      <th>4</th>\n      <td>4</td>\n      <td>0013-EXCHZ</td>\n      <td>Female</td>\n      <td>1</td>\n      <td>Yes</td>\n      <td>No</td>\n      <td>3</td>\n      <td>Yes</td>\n      <td>No</td>\n      <td>2</td>\n      <td>...</td>\n      <td>2021-10-21 18:07:34</td>\n      <td>Yes</td>\n      <td>No</td>\n      <td>2</td>\n      <td>No</td>\n      <td>No</td>\n      <td>No</td>\n      <td>Yes</td>\n      <td>Yes</td>\n      <td>No</td>\n    </tr>\n  </tbody>\n</table>\n<p>5 rows × 42 columns</p>\n</div>"
     },
     "execution_count": 2,
     "metadata": {},
     "output_type": "execute_result"
    }
   ],
   "source": [
    "aqTelco= get_telco_data()\n",
    "aqTelco.head()"
   ]
  },
  {
   "cell_type": "markdown",
   "id": "2788bbf5-21aa-464b-bcf7-61e4dc5bdaa0",
   "metadata": {},
   "source": [
    "This is the way the dataframe is formatted before I make any changes. I retrieved the data from our SQL database using my encrypted credentials from my env file. The data is not formatted very well for me to use our classification models and I will have to make a lot of changes."
   ]
  },
  {
   "cell_type": "markdown",
   "id": "60e109b1-42b2-4886-a0ba-1b26e74f4739",
   "metadata": {},
   "source": [
    "# Prepare Data:"
   ]
  },
  {
   "cell_type": "code",
   "execution_count": 3,
   "id": "3ada324d-f8e3-43df-b833-ab3a09caa6d4",
   "metadata": {},
   "outputs": [
    {
     "data": {
      "text/plain": "  customer_id senior_citizen    tenure internet_service_type_id  \\\n0  0002-ORFBO              0  0.125000                        1   \n1  0003-MKNFE              0  0.125000                        1   \n2  0004-TLHLJ              0  0.055556                        2   \n3  0011-IGKFF              1  0.180556                        2   \n4  0013-EXCHZ              1  0.041667                        2   \n\n  contract_type_id payment_type_id  monthly_charges  total_charges  \\\n0                2               2         0.471144       0.068315   \n1                1               2         0.414428       0.062454   \n2                1               1         0.553731       0.032338   \n3                1               1         0.793532       0.142531   \n4                1               2         0.653234       0.030789   \n\n   has_partner  has_dependents  has_phone_service  uses_paperless_billing  \\\n0            1               1                  1                       1   \n1            0               0                  1                       0   \n2            0               0                  1                       1   \n3            1               0                  1                       1   \n4            1               0                  1                       1   \n\n   did_churn  has_mult_lines  has_online_security  has_online_backup  \\\n0          0             0.0                  0.0                1.0   \n1          0             1.0                  0.0                0.0   \n2          1             0.0                  0.0                0.0   \n3          1             0.0                  0.0                1.0   \n4          1             0.0                  0.0                0.0   \n\n   has_device_protection  has_tech_support  can_stream_tv  can_stream_movie  \n0                    0.0               1.0            1.0               0.0  \n1                    0.0               0.0            0.0               1.0  \n2                    1.0               0.0            0.0               0.0  \n3                    1.0               0.0            1.0               1.0  \n4                    0.0               1.0            1.0               0.0  ",
      "text/html": "<div>\n<style scoped>\n    .dataframe tbody tr th:only-of-type {\n        vertical-align: middle;\n    }\n\n    .dataframe tbody tr th {\n        vertical-align: top;\n    }\n\n    .dataframe thead th {\n        text-align: right;\n    }\n</style>\n<table border=\"1\" class=\"dataframe\">\n  <thead>\n    <tr style=\"text-align: right;\">\n      <th></th>\n      <th>customer_id</th>\n      <th>senior_citizen</th>\n      <th>tenure</th>\n      <th>internet_service_type_id</th>\n      <th>contract_type_id</th>\n      <th>payment_type_id</th>\n      <th>monthly_charges</th>\n      <th>total_charges</th>\n      <th>has_partner</th>\n      <th>has_dependents</th>\n      <th>has_phone_service</th>\n      <th>uses_paperless_billing</th>\n      <th>did_churn</th>\n      <th>has_mult_lines</th>\n      <th>has_online_security</th>\n      <th>has_online_backup</th>\n      <th>has_device_protection</th>\n      <th>has_tech_support</th>\n      <th>can_stream_tv</th>\n      <th>can_stream_movie</th>\n    </tr>\n  </thead>\n  <tbody>\n    <tr>\n      <th>0</th>\n      <td>0002-ORFBO</td>\n      <td>0</td>\n      <td>0.125000</td>\n      <td>1</td>\n      <td>2</td>\n      <td>2</td>\n      <td>0.471144</td>\n      <td>0.068315</td>\n      <td>1</td>\n      <td>1</td>\n      <td>1</td>\n      <td>1</td>\n      <td>0</td>\n      <td>0.0</td>\n      <td>0.0</td>\n      <td>1.0</td>\n      <td>0.0</td>\n      <td>1.0</td>\n      <td>1.0</td>\n      <td>0.0</td>\n    </tr>\n    <tr>\n      <th>1</th>\n      <td>0003-MKNFE</td>\n      <td>0</td>\n      <td>0.125000</td>\n      <td>1</td>\n      <td>1</td>\n      <td>2</td>\n      <td>0.414428</td>\n      <td>0.062454</td>\n      <td>0</td>\n      <td>0</td>\n      <td>1</td>\n      <td>0</td>\n      <td>0</td>\n      <td>1.0</td>\n      <td>0.0</td>\n      <td>0.0</td>\n      <td>0.0</td>\n      <td>0.0</td>\n      <td>0.0</td>\n      <td>1.0</td>\n    </tr>\n    <tr>\n      <th>2</th>\n      <td>0004-TLHLJ</td>\n      <td>0</td>\n      <td>0.055556</td>\n      <td>2</td>\n      <td>1</td>\n      <td>1</td>\n      <td>0.553731</td>\n      <td>0.032338</td>\n      <td>0</td>\n      <td>0</td>\n      <td>1</td>\n      <td>1</td>\n      <td>1</td>\n      <td>0.0</td>\n      <td>0.0</td>\n      <td>0.0</td>\n      <td>1.0</td>\n      <td>0.0</td>\n      <td>0.0</td>\n      <td>0.0</td>\n    </tr>\n    <tr>\n      <th>3</th>\n      <td>0011-IGKFF</td>\n      <td>1</td>\n      <td>0.180556</td>\n      <td>2</td>\n      <td>1</td>\n      <td>1</td>\n      <td>0.793532</td>\n      <td>0.142531</td>\n      <td>1</td>\n      <td>0</td>\n      <td>1</td>\n      <td>1</td>\n      <td>1</td>\n      <td>0.0</td>\n      <td>0.0</td>\n      <td>1.0</td>\n      <td>1.0</td>\n      <td>0.0</td>\n      <td>1.0</td>\n      <td>1.0</td>\n    </tr>\n    <tr>\n      <th>4</th>\n      <td>0013-EXCHZ</td>\n      <td>1</td>\n      <td>0.041667</td>\n      <td>2</td>\n      <td>1</td>\n      <td>2</td>\n      <td>0.653234</td>\n      <td>0.030789</td>\n      <td>1</td>\n      <td>0</td>\n      <td>1</td>\n      <td>1</td>\n      <td>1</td>\n      <td>0.0</td>\n      <td>0.0</td>\n      <td>0.0</td>\n      <td>0.0</td>\n      <td>1.0</td>\n      <td>1.0</td>\n      <td>0.0</td>\n    </tr>\n  </tbody>\n</table>\n</div>"
     },
     "execution_count": 3,
     "metadata": {},
     "output_type": "execute_result"
    }
   ],
   "source": [
    "Telco = prep_telco(aqTelco)\n",
    "Telco.head()"
   ]
  },
  {
   "cell_type": "markdown",
   "id": "4739ad3a-1532-4fa0-af3c-bf14308bfc7e",
   "metadata": {},
   "source": [
    "All of the code is in my prepare.py, but in summary I:\n",
    "- encoded all categorical variables\n",
    "- scaled my numeric variables to numbers between 0 and 1\n",
    "- dropped unnecessary columns\n",
    "- replaced all nulls for additional services with 0's to indicate they don't have the service\n",
    "- fixed empty string values in total charges with 0's as these customers havent been charged yet"
   ]
  },
  {
   "cell_type": "code",
   "execution_count": 4,
   "id": "edb8109c-3987-4c8d-8c8d-04490c355979",
   "metadata": {},
   "outputs": [],
   "source": [
    "#calling my split data function from my prepare in order to have training, validating, and testing portions of my data.\n",
    "train, validate, test = split_telco(Telco)\n",
    "user_id = pd.DataFrame()\n",
    "user_id['user_id'] = test.customer_id\n",
    "train = train.drop(columns = 'customer_id')\n",
    "validate = validate.drop(columns = 'customer_id')\n",
    "test = test.drop(columns = 'customer_id')\n",
    "x_train = train.drop(columns = 'did_churn')\n",
    "y_train = train.did_churn\n",
    "x_validate = validate.drop(columns ='did_churn')\n",
    "y_validate = validate.did_churn\n",
    "x_test = test.drop(columns = 'did_churn')\n",
    "y_test = test.did_churn\n",
    "did_churn =  train [ train.did_churn == 1]\n",
    "no_churn = train [ train.did_churn == 0]\n",
    "fiber_churn = train[(train.did_churn == 1) & (train.internet_service_type_id == 2)]\n",
    "fiber_no_churn = train [ (train.did_churn == 0) & ( train.internet_service_type_id == 2)]\n",
    "train['contract_type'] = train.contract_type_id.map({1 : 'MTM',  2:  'one year' , 3 : 'Two year'})\n",
    "train['internet_service_type'] = train.internet_service_type_id.map({1 : 'DSL',  2:  'Fiber Optic' , 3 : 'None'})\n",
    "train['has_fiber'] = train.internet_service_type_id.map({1:0,2:1,3:0})\n",
    "mtm = train[train.contract_type_id == 1 ]\n",
    "mtm_churn = train[(train.contract_type_id == 1) & (train.did_churn == 1) ]\n",
    "mtm_no_churn = train[(train.contract_type_id == 1) & (train.did_churn == 0)]\n",
    "fiber = train[train.internet_service_type_id ==2]\n",
    "no_fiber = train[train.internet_service_type_id != 2]\n"
   ]
  },
  {
   "cell_type": "markdown",
   "source": [
    "Here Ive split my data into train, validation, and testing sets in order to prevent overfitting my data. I have also made several df's isolating certain features in order to help me with my tests.\n"
   ],
   "metadata": {
    "collapsed": false
   }
  },
  {
   "cell_type": "code",
   "execution_count": 5,
   "id": "8f671145-ff5c-453a-912e-9ed995da8175",
   "metadata": {},
   "outputs": [],
   "source": [
    "alpha = .05"
   ]
  },
  {
   "cell_type": "markdown",
   "id": "8639ca42-69c5-4548-8a8c-e2ee3a374099",
   "metadata": {},
   "source": [
    "# Data Exploration:"
   ]
  },
  {
   "cell_type": "markdown",
   "source": [
    "Distribution of Churn:"
   ],
   "metadata": {
    "collapsed": false
   }
  },
  {
   "cell_type": "code",
   "execution_count": 6,
   "outputs": [
    {
     "data": {
      "text/plain": "<Figure size 432x288 with 1 Axes>",
      "image/png": "[encoded data removed]"
     },
     "metadata": {},
     "output_type": "display_data"
    }
   ],
   "source": [
    "pd.crosstab(train.did_churn,train.did_churn).plot.bar()\n",
    "plt.show()"
   ],
   "metadata": {
    "collapsed": false
   }
  },
  {
   "cell_type": "markdown",
   "id": "1ffa7fd2-338b-4b96-891c-19ed31feee9e",
   "metadata": {
    "tags": []
   },
   "source": [
    "### QUESTION 1:"
   ]
  },
  {
   "cell_type": "markdown",
   "id": "cf147fd0-c661-4697-9aa2-aa4e1a3431ce",
   "metadata": {},
   "source": [
    " Is monthly charges the same amongst people that do and don't churn?"
   ]
  },
  {
   "cell_type": "markdown",
   "id": "05747472-f91a-4730-bf91-6f1a2b25f1b3",
   "metadata": {},
   "source": [
    "- Hnull - monthly charges is the same amongst people that do and dont churn."
   ]
  },
  {
   "cell_type": "markdown",
   "id": "7a6e0a39-3c72-4bc0-b3a9-709b499b79d3",
   "metadata": {},
   "source": [
    "- Halt - monthly charges is not the same amongst people that do and dont churn."
   ]
  },
  {
   "cell_type": "code",
   "execution_count": 7,
   "id": "69e25cfa-e113-4c0a-a236-20a5029426f3",
   "metadata": {},
   "outputs": [
    {
     "data": {
      "text/plain": "<AxesSubplot:xlabel='monthly_charges', ylabel='Count'>"
     },
     "execution_count": 7,
     "metadata": {},
     "output_type": "execute_result"
    },
    {
     "data": {
      "text/plain": "<Figure size 432x288 with 1 Axes>",
      "image/png": "[encoded data removed]"
     },
     "metadata": {},
     "output_type": "display_data"
    }
   ],
   "source": [
    "#Here I am creating the visualization you see below\n",
    "sns.histplot(data = train, x = 'monthly_charges', hue = 'did_churn')"
   ]
  },
  {
   "cell_type": "code",
   "execution_count": 8,
   "id": "8a74a559-691a-441f-ad2a-65a8ed828d2c",
   "metadata": {},
   "outputs": [
    {
     "name": "stdout",
     "output_type": "stream",
     "text": [
      "The p-value is less than the alpha: True\n"
     ]
    }
   ],
   "source": [
    "#Here I am running another T-test on churn and monthly charges.\n",
    "tstat, p = stats.ttest_ind(did_churn.monthly_charges,\n",
    "                no_churn.monthly_charges, \n",
    "                equal_var=False\n",
    "               )\n",
    "print(f'The p-value is less than the alpha: {p < alpha}')"
   ]
  },
  {
   "cell_type": "markdown",
   "id": "d8a673ff-b45b-475b-92be-fc9643d79a06",
   "metadata": {},
   "source": [
    "Since the p-val is less than alpha we can reject the null hypothesis and can conclude that people do not churn the same amongst monthly charges and it would be a useful feature for our model."
   ]
  },
  {
   "cell_type": "markdown",
   "id": "b5b852ea-dd02-448b-b3c4-33e20c02beaf",
   "metadata": {},
   "source": [
    "### Question 2:"
   ]
  },
  {
   "cell_type": "markdown",
   "id": "f4190a4e-495b-4836-a2b3-1bc562c8bcb9",
   "metadata": {},
   "source": [
    "Are Fiber Optic customers more likely to churn than other customers?"
   ]
  },
  {
   "cell_type": "markdown",
   "id": "40f03a76-7691-43f2-85b2-c4f11a1392d9",
   "metadata": {},
   "source": [
    "- Hnull - Fiber optic customers are not more likely to churn than customers with other internet types."
   ]
  },
  {
   "cell_type": "markdown",
   "id": "42cf55cb-10c4-4152-9af8-12756c1f2c3a",
   "metadata": {},
   "source": [
    "- Halt - Fiber optic customers are more likely to churn than customers with other internet types."
   ]
  },
  {
   "cell_type": "code",
   "execution_count": 9,
   "id": "0aad50d1-ff97-4af5-8453-8f848eb0890f",
   "metadata": {},
   "outputs": [
    {
     "data": {
      "text/plain": "<Figure size 432x288 with 1 Axes>",
      "image/png": "[encoded data removed]"
     },
     "metadata": {},
     "output_type": "display_data"
    }
   ],
   "source": [
    "pd.crosstab(train['internet_service_type'], train.did_churn).plot.bar()\n",
    "plt.title(f'Distribution of service type on churn')\n",
    "plt.legend(['did not churn','did churn'])\n",
    "plt.xlabel('Internet Service Type')\n",
    "plt.ylabel('Number of People')\n",
    "plt.show()\n",
    "            "
   ]
  },
  {
   "cell_type": "code",
   "execution_count": 10,
   "id": "2e1d6444-69fa-4888-a437-58a50491d03f",
   "metadata": {},
   "outputs": [
    {
     "name": "stdout",
     "output_type": "stream",
     "text": [
      "The p-value is less than the alpha: True\n"
     ]
    }
   ],
   "source": [
    "#Here I am running a t-test on different internet service types and whether or not they have churned.\n",
    "tstat, p = stats.ttest_ind(did_churn.internet_service_type_id,\n",
    "                no_churn.internet_service_type_id, \n",
    "                equal_var=False\n",
    "               )\n",
    "print(f'The p-value is less than the alpha: {p < alpha}')"
   ]
  },
  {
   "cell_type": "markdown",
   "id": "2b94cdaa-8d18-456c-86d3-83466aac5887",
   "metadata": {},
   "source": [
    "Since the P-val is less than the alpha we can conclude that Fiber optic customers churn more and that the internet service type is statistically significant in determining churn and should be considered for our model."
   ]
  },
  {
   "cell_type": "markdown",
   "id": "f034754c-405b-4f05-bab0-a90afd77fd41",
   "metadata": {},
   "source": [
    "### Question 3:"
   ]
  },
  {
   "cell_type": "markdown",
   "id": "a64091b0-6f14-4a56-a241-39718e35b008",
   "metadata": {},
   "source": [
    "Do fiber users on month to month plans churn more than fiber users on other plans?"
   ]
  },
  {
   "cell_type": "markdown",
   "id": "04327372-731f-476e-b232-75bfcb2b7870",
   "metadata": {},
   "source": [
    "- Hnull - Fiber users on month to month plans do not churn more than fiber users on other billing plans."
   ]
  },
  {
   "cell_type": "markdown",
   "id": "9f9b41ed-0742-4b16-8823-ad64957a8227",
   "metadata": {},
   "source": [
    "- Halt - Fiber users on month to month plans do churn more than fiber users on other billing plans"
   ]
  },
  {
   "cell_type": "code",
   "execution_count": 11,
   "id": "eb5b3464-d688-49f6-9656-1deadff556b6",
   "metadata": {},
   "outputs": [
    {
     "data": {
      "text/plain": "<Figure size 432x288 with 1 Axes>",
      "image/png": "[encoded data removed]"
     },
     "metadata": {},
     "output_type": "display_data"
    }
   ],
   "source": [
    "fiber = train[train.internet_service_type == 'Fiber Optic']\n",
    "sns.countplot( data = fiber, x = 'contract_type', hue = 'did_churn')\n",
    "plt.title('fiber users')\n",
    "plt.legend(['did not churn', 'did churn'])\n",
    "plt.xlabel('Contract Type')\n",
    "plt.ylabel('Number of People')\n",
    "plt.show()"
   ]
  },
  {
   "cell_type": "code",
   "execution_count": 12,
   "id": "828a3443-68da-43ff-8200-60faf4fa9166",
   "metadata": {},
   "outputs": [
    {
     "name": "stdout",
     "output_type": "stream",
     "text": [
      "The p-value is less than the alpha: True\n"
     ]
    }
   ],
   "source": [
    "tstat, p = stats.ttest_ind(fiber_churn.contract_type_id,\n",
    "                fiber_no_churn.contract_type_id, \n",
    "                equal_var=False\n",
    "               )\n",
    "print(f'The p-value is less than the alpha: {p < alpha}')"
   ]
  },
  {
   "cell_type": "markdown",
   "id": "f3e7dad7-a665-4304-afc6-b6f29d8b395d",
   "metadata": {},
   "source": [
    "Since the P-val is less than alpha we can conclude that contract type has a statistical significance in determining whether fiber optic users will or won't churn."
   ]
  },
  {
   "cell_type": "markdown",
   "id": "1cf7046e-3772-4103-9aa7-8bd12d894607",
   "metadata": {},
   "source": [
    "### Question 4:"
   ]
  },
  {
   "cell_type": "markdown",
   "id": "e06cfac1-45a1-4673-a32f-947123b42527",
   "metadata": {},
   "source": [
    "Do month to month users with fiber churn more than month to month users without fiber?"
   ]
  },
  {
   "cell_type": "markdown",
   "id": "4ef0b2d6-8f41-4359-bb34-23dd26e6045f",
   "metadata": {},
   "source": [
    "- Hnull - month to month users without fiber are churning the same amount as month to month users with fiber"
   ]
  },
  {
   "cell_type": "markdown",
   "id": "6914b801-aad8-4529-9919-211fa79f4b32",
   "metadata": {},
   "source": [
    "- Halt - month-to-month users without fiber are churning less than month-to-month users with fiber"
   ]
  },
  {
   "cell_type": "code",
   "execution_count": 13,
   "id": "338cec97-b93b-4376-b393-764921b7df25",
   "metadata": {},
   "outputs": [
    {
     "data": {
      "text/plain": "<Figure size 432x288 with 1 Axes>",
      "image/png": "[encoded data removed]"
     },
     "metadata": {},
     "output_type": "display_data"
    }
   ],
   "source": [
    "mtm = train[train.contract_type_id == 1 ]\n",
    "sns.countplot(data = mtm, x = 'internet_service_type', hue = 'did_churn')\n",
    "plt.title('customers on month to month contract')\n",
    "plt.legend(['did not churn','did churn'])\n",
    "plt.xlabel('Internet Type')\n",
    "plt.ylabel('Number of People')\n",
    "plt.show()"
   ]
  },
  {
   "cell_type": "code",
   "execution_count": 14,
   "id": "f56f9fb8-5b9f-4599-b290-0853d1c1b2d2",
   "metadata": {},
   "outputs": [
    {
     "name": "stdout",
     "output_type": "stream",
     "text": [
      "The p-value is less than the alpha: True\n"
     ]
    }
   ],
   "source": [
    "tstat, p = stats.ttest_ind(mtm_churn.has_fiber,\n",
    "                mtm_no_churn.has_fiber, \n",
    "                equal_var=False\n",
    "               )\n",
    "print(f'The p-value is less than the alpha: {p < alpha}')"
   ]
  },
  {
   "cell_type": "markdown",
   "id": "ac01dcfb-7fcf-4f31-848e-606e2735ebe4",
   "metadata": {},
   "source": [
    "Since p-val less than alpha we can conclude mtm users with fiber are churning more frequently than mtm users without fiber."
   ]
  },
  {
   "cell_type": "markdown",
   "source": [
    "After exploring these are the features I've decided to move forward with in my modeling\n",
    "-monthly charges\n",
    "-internet service type id\n",
    "-contract type id\n",
    "-total charges\n",
    "\n"
   ],
   "metadata": {
    "collapsed": false
   }
  },
  {
   "cell_type": "code",
   "execution_count": 15,
   "outputs": [],
   "source": [
    "imp = ['internet_service_type_id','contract_type_id','monthly_charges','total_charges']\n",
    "xmodelTrain = train[imp]\n",
    "xmodelValidate = validate[imp]\n",
    "xmodelTest = test[imp]"
   ],
   "metadata": {
    "collapsed": false
   }
  },
  {
   "cell_type": "markdown",
   "source": [
    "### Models and Evaluation:\n",
    "- Decision Tree Classifier\n",
    "- Random Forest\n",
    "- Logistic Regression"
   ],
   "metadata": {
    "collapsed": false
   }
  },
  {
   "cell_type": "markdown",
   "source": [
    "My goal for the models will be to improve upon my baseline accuracy which is 73%"
   ],
   "metadata": {
    "collapsed": false
   }
  },
  {
   "cell_type": "code",
   "execution_count": 16,
   "outputs": [
    {
     "data": {
      "text/plain": "73.47"
     },
     "execution_count": 16,
     "metadata": {},
     "output_type": "execute_result"
    }
   ],
   "source": [
    "#Here I am calculating our baseline accuracy\n",
    "baseline_accuracy = round((train.did_churn == 0).mean(), 4) * 100\n",
    "baseline_accuracy"
   ],
   "metadata": {
    "collapsed": false
   }
  },
  {
   "cell_type": "markdown",
   "source": [
    "## Decision Tree Model"
   ],
   "metadata": {
    "collapsed": false
   }
  },
  {
   "cell_type": "markdown",
   "source": [
    "Best max_depth = 5"
   ],
   "metadata": {
    "collapsed": false
   }
  },
  {
   "cell_type": "code",
   "execution_count": 17,
   "outputs": [
    {
     "data": {
      "text/plain": "77.9985805535841"
     },
     "execution_count": 17,
     "metadata": {},
     "output_type": "execute_result"
    }
   ],
   "source": [
    "#Here I am creating fitting and scoring my Decision Tree Model\n",
    "DTC = DecisionTreeClassifier(max_depth = 5, random_state = 123)\n",
    "DTC.fit(xmodelTrain,y_train)\n",
    "DTC.score(xmodelValidate,y_validate) * 100"
   ],
   "metadata": {
    "collapsed": false
   }
  },
  {
   "cell_type": "code",
   "execution_count": 18,
   "outputs": [
    {
     "data": {
      "text/plain": "                     0           1  accuracy    macro avg  weighted avg\nprecision     0.808511    0.636752  0.779986     0.722631      0.762920\nrecall        0.917874    0.398396  0.779986     0.658135      0.779986\nf1-score      0.859729    0.490132  0.779986     0.674930      0.761624\nsupport    1035.000000  374.000000  0.779986  1409.000000   1409.000000",
      "text/html": "<div>\n<style scoped>\n    .dataframe tbody tr th:only-of-type {\n        vertical-align: middle;\n    }\n\n    .dataframe tbody tr th {\n        vertical-align: top;\n    }\n\n    .dataframe thead th {\n        text-align: right;\n    }\n</style>\n<table border=\"1\" class=\"dataframe\">\n  <thead>\n    <tr style=\"text-align: right;\">\n      <th></th>\n      <th>0</th>\n      <th>1</th>\n      <th>accuracy</th>\n      <th>macro avg</th>\n      <th>weighted avg</th>\n    </tr>\n  </thead>\n  <tbody>\n    <tr>\n      <th>precision</th>\n      <td>0.808511</td>\n      <td>0.636752</td>\n      <td>0.779986</td>\n      <td>0.722631</td>\n      <td>0.762920</td>\n    </tr>\n    <tr>\n      <th>recall</th>\n      <td>0.917874</td>\n      <td>0.398396</td>\n      <td>0.779986</td>\n      <td>0.658135</td>\n      <td>0.779986</td>\n    </tr>\n    <tr>\n      <th>f1-score</th>\n      <td>0.859729</td>\n      <td>0.490132</td>\n      <td>0.779986</td>\n      <td>0.674930</td>\n      <td>0.761624</td>\n    </tr>\n    <tr>\n      <th>support</th>\n      <td>1035.000000</td>\n      <td>374.000000</td>\n      <td>0.779986</td>\n      <td>1409.000000</td>\n      <td>1409.000000</td>\n    </tr>\n  </tbody>\n</table>\n</div>"
     },
     "execution_count": 18,
     "metadata": {},
     "output_type": "execute_result"
    }
   ],
   "source": [
    "y_preds = pd.DataFrame({\n",
    "    'y_act': y_validate,\n",
    "    'baseline': 0,\n",
    "    'DTC': DTC.predict(xmodelValidate)})\n",
    "pd.DataFrame(classification_report(y_preds.y_act, y_preds.DTC, output_dict=True))\n"
   ],
   "metadata": {
    "collapsed": false
   }
  },
  {
   "cell_type": "markdown",
   "source": [
    "I found my best Decision Tree at a max depth of 5 which gave me a 77.99 % accuracy and a 39.84% recall on validate. This surpasses my baseline by around 5 %."
   ],
   "metadata": {
    "collapsed": false
   }
  },
  {
   "cell_type": "markdown",
   "source": [
    "## Random Forest Model:"
   ],
   "metadata": {
    "collapsed": false
   }
  },
  {
   "cell_type": "markdown",
   "source": [
    "Best Hyperparameters: max_depth = 10 min_leaf = 12"
   ],
   "metadata": {
    "collapsed": false
   }
  },
  {
   "cell_type": "code",
   "execution_count": 19,
   "outputs": [
    {
     "data": {
      "text/plain": "78.708303761533"
     },
     "execution_count": 19,
     "metadata": {},
     "output_type": "execute_result"
    }
   ],
   "source": [
    "#Here I am creating fitting and scoring my Decision Tree Model on Validate data.\n",
    "rf = RandomForestClassifier(max_depth = 10, min_samples_leaf = 12,random_state = 123)\n",
    "rf.fit(xmodelTrain,y_train)\n",
    "rf.score(xmodelValidate,y_validate) * 100"
   ],
   "metadata": {
    "collapsed": false
   }
  },
  {
   "cell_type": "code",
   "execution_count": 20,
   "outputs": [
    {
     "data": {
      "text/plain": "                     0           1  accuracy    macro avg  weighted avg\nprecision     0.832579    0.621711  0.787083     0.727145      0.776607\nrecall        0.888889    0.505348  0.787083     0.697118      0.787083\nf1-score      0.859813    0.557522  0.787083     0.708668      0.779574\nsupport    1035.000000  374.000000  0.787083  1409.000000   1409.000000",
      "text/html": "<div>\n<style scoped>\n    .dataframe tbody tr th:only-of-type {\n        vertical-align: middle;\n    }\n\n    .dataframe tbody tr th {\n        vertical-align: top;\n    }\n\n    .dataframe thead th {\n        text-align: right;\n    }\n</style>\n<table border=\"1\" class=\"dataframe\">\n  <thead>\n    <tr style=\"text-align: right;\">\n      <th></th>\n      <th>0</th>\n      <th>1</th>\n      <th>accuracy</th>\n      <th>macro avg</th>\n      <th>weighted avg</th>\n    </tr>\n  </thead>\n  <tbody>\n    <tr>\n      <th>precision</th>\n      <td>0.832579</td>\n      <td>0.621711</td>\n      <td>0.787083</td>\n      <td>0.727145</td>\n      <td>0.776607</td>\n    </tr>\n    <tr>\n      <th>recall</th>\n      <td>0.888889</td>\n      <td>0.505348</td>\n      <td>0.787083</td>\n      <td>0.697118</td>\n      <td>0.787083</td>\n    </tr>\n    <tr>\n      <th>f1-score</th>\n      <td>0.859813</td>\n      <td>0.557522</td>\n      <td>0.787083</td>\n      <td>0.708668</td>\n      <td>0.779574</td>\n    </tr>\n    <tr>\n      <th>support</th>\n      <td>1035.000000</td>\n      <td>374.000000</td>\n      <td>0.787083</td>\n      <td>1409.000000</td>\n      <td>1409.000000</td>\n    </tr>\n  </tbody>\n</table>\n</div>"
     },
     "execution_count": 20,
     "metadata": {},
     "output_type": "execute_result"
    }
   ],
   "source": [
    "y_preds = pd.DataFrame({\n",
    "    'y_act': y_validate,\n",
    "    'baseline': 0,\n",
    "    'rf': rf.predict(xmodelValidate)})\n",
    "pd.DataFrame(classification_report(y_preds.y_act, y_preds.rf, output_dict=True))"
   ],
   "metadata": {
    "collapsed": false
   }
  },
  {
   "cell_type": "markdown",
   "source": [
    "I found my best Random Forest model at a max depth of 10 and min sample leaf 12. This gave me a 78.7 % accuracy and 51% recall on validate. This model surpasses my baseline by nearly 6 percent and the higher recall is also an improvement compared to my best decision tree model"
   ],
   "metadata": {
    "collapsed": false
   }
  },
  {
   "cell_type": "markdown",
   "source": [
    "## Logistic Regression:"
   ],
   "metadata": {
    "collapsed": false
   }
  },
  {
   "cell_type": "markdown",
   "source": [
    "best hyperparameter: c = .2"
   ],
   "metadata": {
    "collapsed": false
   }
  },
  {
   "cell_type": "code",
   "execution_count": 21,
   "outputs": [
    {
     "data": {
      "text/plain": "78.28246983676365"
     },
     "execution_count": 21,
     "metadata": {},
     "output_type": "execute_result"
    }
   ],
   "source": [
    "#Here I am creating fitting and scoring my Decision Tree Model on Validate data.\n",
    "logreg = LogisticRegression(C = .2,random_state = 123)\n",
    "logreg.fit(xmodelTrain,y_train)\n",
    "logreg.score(xmodelValidate,y_validate) * 100"
   ],
   "metadata": {
    "collapsed": false
   }
  },
  {
   "cell_type": "code",
   "execution_count": 22,
   "outputs": [
    {
     "data": {
      "text/plain": "                     0           1  accuracy    macro avg  weighted avg\nprecision     0.822281    0.622302  0.782825     0.722292      0.769199\nrecall        0.898551    0.462567  0.782825     0.680559      0.782825\nf1-score      0.858726    0.530675  0.782825     0.694700      0.771649\nsupport    1035.000000  374.000000  0.782825  1409.000000   1409.000000",
      "text/html": "<div>\n<style scoped>\n    .dataframe tbody tr th:only-of-type {\n        vertical-align: middle;\n    }\n\n    .dataframe tbody tr th {\n        vertical-align: top;\n    }\n\n    .dataframe thead th {\n        text-align: right;\n    }\n</style>\n<table border=\"1\" class=\"dataframe\">\n  <thead>\n    <tr style=\"text-align: right;\">\n      <th></th>\n      <th>0</th>\n      <th>1</th>\n      <th>accuracy</th>\n      <th>macro avg</th>\n      <th>weighted avg</th>\n    </tr>\n  </thead>\n  <tbody>\n    <tr>\n      <th>precision</th>\n      <td>0.822281</td>\n      <td>0.622302</td>\n      <td>0.782825</td>\n      <td>0.722292</td>\n      <td>0.769199</td>\n    </tr>\n    <tr>\n      <th>recall</th>\n      <td>0.898551</td>\n      <td>0.462567</td>\n      <td>0.782825</td>\n      <td>0.680559</td>\n      <td>0.782825</td>\n    </tr>\n    <tr>\n      <th>f1-score</th>\n      <td>0.858726</td>\n      <td>0.530675</td>\n      <td>0.782825</td>\n      <td>0.694700</td>\n      <td>0.771649</td>\n    </tr>\n    <tr>\n      <th>support</th>\n      <td>1035.000000</td>\n      <td>374.000000</td>\n      <td>0.782825</td>\n      <td>1409.000000</td>\n      <td>1409.000000</td>\n    </tr>\n  </tbody>\n</table>\n</div>"
     },
     "execution_count": 22,
     "metadata": {},
     "output_type": "execute_result"
    }
   ],
   "source": [
    "y_preds = pd.DataFrame({\n",
    "    'y_act': y_validate,\n",
    "    'baseline': 0,\n",
    "    'logreg': logreg.predict(xmodelValidate)})\n",
    "pd.DataFrame(classification_report(y_preds.y_act, y_preds.logreg, output_dict=True))"
   ],
   "metadata": {
    "collapsed": false
   }
  },
  {
   "cell_type": "markdown",
   "source": [
    "I found my best logistic regression model at a c value of .2. This gave me a 78.28 % accuracy and a 46.26 % accuracy. both the accuracy and recall of my random forest beat this model. Therefor my random forest is the model I will be going forward with."
   ],
   "metadata": {
    "collapsed": false
   }
  },
  {
   "cell_type": "code",
   "execution_count": 23,
   "outputs": [
    {
     "name": "stdout",
     "output_type": "stream",
     "text": [
      "              precision    recall  f1-score   support\n",
      "\n",
      "           0       0.84      0.89      0.87      1035\n",
      "           1       0.64      0.54      0.59       374\n",
      "\n",
      "    accuracy                           0.80      1409\n",
      "   macro avg       0.74      0.72      0.73      1409\n",
      "weighted avg       0.79      0.80      0.79      1409\n",
      "\n"
     ]
    }
   ],
   "source": [
    "#Here I am providing a classification report of how my best model performs on my test data\n",
    "predicted_test = rf.predict(xmodelTest)\n",
    "print(classification_report(y_test, rf.predict(xmodelTest)))\n"
   ],
   "metadata": {
    "collapsed": false
   }
  },
  {
   "cell_type": "markdown",
   "source": [
    "As you can see my random forest model tests at 80% accuracy this is about 7% above my baseline. we also see that the model tests with a 54% recall which is good as we want to reduce the amount of missed churners and wouldn't mind misidentifying some customers that won't churn as churners."
   ],
   "metadata": {
    "collapsed": false
   }
  },
  {
   "cell_type": "markdown",
   "source": [
    "## Creating Predictions CSV"
   ],
   "metadata": {
    "collapsed": false
   }
  },
  {
   "cell_type": "code",
   "execution_count": 24,
   "outputs": [
    {
     "data": {
      "text/plain": "         Churn\n0     0.025986\n1     0.407603\n2     0.564255\n3     0.132723\n4     0.644522\n...        ...\n1404  0.111176\n1405  0.570429\n1406  0.531393\n1407  0.238390\n1408  0.430901\n\n[1409 rows x 1 columns]",
      "text/html": "<div>\n<style scoped>\n    .dataframe tbody tr th:only-of-type {\n        vertical-align: middle;\n    }\n\n    .dataframe tbody tr th {\n        vertical-align: top;\n    }\n\n    .dataframe thead th {\n        text-align: right;\n    }\n</style>\n<table border=\"1\" class=\"dataframe\">\n  <thead>\n    <tr style=\"text-align: right;\">\n      <th></th>\n      <th>Churn</th>\n    </tr>\n  </thead>\n  <tbody>\n    <tr>\n      <th>0</th>\n      <td>0.025986</td>\n    </tr>\n    <tr>\n      <th>1</th>\n      <td>0.407603</td>\n    </tr>\n    <tr>\n      <th>2</th>\n      <td>0.564255</td>\n    </tr>\n    <tr>\n      <th>3</th>\n      <td>0.132723</td>\n    </tr>\n    <tr>\n      <th>4</th>\n      <td>0.644522</td>\n    </tr>\n    <tr>\n      <th>...</th>\n      <td>...</td>\n    </tr>\n    <tr>\n      <th>1404</th>\n      <td>0.111176</td>\n    </tr>\n    <tr>\n      <th>1405</th>\n      <td>0.570429</td>\n    </tr>\n    <tr>\n      <th>1406</th>\n      <td>0.531393</td>\n    </tr>\n    <tr>\n      <th>1407</th>\n      <td>0.238390</td>\n    </tr>\n    <tr>\n      <th>1408</th>\n      <td>0.430901</td>\n    </tr>\n  </tbody>\n</table>\n<p>1409 rows × 1 columns</p>\n</div>"
     },
     "execution_count": 24,
     "metadata": {},
     "output_type": "execute_result"
    }
   ],
   "source": [
    "prob_test = logreg.predict_proba(xmodelTest)\n",
    "#Here I am getting predicted probablity of churn for my telco.csv\n",
    "preds_df = pd.DataFrame(prob_test, columns= logreg.classes_.tolist())\n",
    "preds_df = preds_df.rename(columns={0 : 'No Churn', 1: 'Churn'})\n",
    "preds_df = preds_df.drop(columns = 'No Churn')\n",
    "preds_df"
   ],
   "metadata": {
    "collapsed": false
   }
  },
  {
   "cell_type": "code",
   "execution_count": 25,
   "outputs": [],
   "source": [
    "reset_test = test.reset_index()"
   ],
   "metadata": {
    "collapsed": false
   }
  },
  {
   "cell_type": "code",
   "execution_count": 26,
   "outputs": [],
   "source": [
    "#Here I merge the df to my probabilities\n",
    "test_prob_df = pd.concat([reset_test, preds_df], axis=1)\n"
   ],
   "metadata": {
    "collapsed": false
   }
  },
  {
   "cell_type": "code",
   "execution_count": 27,
   "outputs": [],
   "source": [
    "test_prob_df['predicted'] = predicted_test"
   ],
   "metadata": {
    "collapsed": false
   }
  },
  {
   "cell_type": "code",
   "execution_count": 28,
   "outputs": [],
   "source": [
    "test_prob_df.set_index(\"index\", inplace = True)"
   ],
   "metadata": {
    "collapsed": false
   }
  },
  {
   "cell_type": "code",
   "execution_count": 29,
   "outputs": [],
   "source": [
    "csv_df = test_prob_df[[ 'Churn', 'predicted']]"
   ],
   "metadata": {
    "collapsed": false
   }
  },
  {
   "cell_type": "code",
   "execution_count": 30,
   "outputs": [],
   "source": [
    "csv_df = pd.concat([user_id, csv_df], axis=1)"
   ],
   "metadata": {
    "collapsed": false
   }
  },
  {
   "cell_type": "code",
   "execution_count": 31,
   "outputs": [
    {
     "data": {
      "text/plain": "         user_id     Churn  predicted\n3115  3486-HOOGQ  0.025986          0\n1581  6080-TCMYC  0.407603          0\n6863  3627-FHKBK  0.564255          1\n3541  6408-OTUBZ  0.132723          0\n846   2929-ERCFZ  0.644522          1",
      "text/html": "<div>\n<style scoped>\n    .dataframe tbody tr th:only-of-type {\n        vertical-align: middle;\n    }\n\n    .dataframe tbody tr th {\n        vertical-align: top;\n    }\n\n    .dataframe thead th {\n        text-align: right;\n    }\n</style>\n<table border=\"1\" class=\"dataframe\">\n  <thead>\n    <tr style=\"text-align: right;\">\n      <th></th>\n      <th>user_id</th>\n      <th>Churn</th>\n      <th>predicted</th>\n    </tr>\n  </thead>\n  <tbody>\n    <tr>\n      <th>3115</th>\n      <td>3486-HOOGQ</td>\n      <td>0.025986</td>\n      <td>0</td>\n    </tr>\n    <tr>\n      <th>1581</th>\n      <td>6080-TCMYC</td>\n      <td>0.407603</td>\n      <td>0</td>\n    </tr>\n    <tr>\n      <th>6863</th>\n      <td>3627-FHKBK</td>\n      <td>0.564255</td>\n      <td>1</td>\n    </tr>\n    <tr>\n      <th>3541</th>\n      <td>6408-OTUBZ</td>\n      <td>0.132723</td>\n      <td>0</td>\n    </tr>\n    <tr>\n      <th>846</th>\n      <td>2929-ERCFZ</td>\n      <td>0.644522</td>\n      <td>1</td>\n    </tr>\n  </tbody>\n</table>\n</div>"
     },
     "execution_count": 31,
     "metadata": {},
     "output_type": "execute_result"
    }
   ],
   "source": [
    "csv_df.head()"
   ],
   "metadata": {
    "collapsed": false
   }
  },
  {
   "cell_type": "code",
   "execution_count": 32,
   "outputs": [],
   "source": [
    "csv_df.to_csv('predictions.csv')"
   ],
   "metadata": {
    "collapsed": false
   }
  },
  {
   "cell_type": "markdown",
   "source": [
    "## Conclusion:"
   ],
   "metadata": {
    "collapsed": false
   }
  },
  {
   "cell_type": "markdown",
   "source": [
    " In conclusion I found 4 important features to focus on in the name of reducing churn, and created a few good models that beat the baseline and one that even broke through 80%. In the future I would like a little more time to tamper with the features I include in my models as I believe doing do could garner further gains in accuracy."
   ],
   "metadata": {
    "collapsed": false
   }
  },
  {
   "cell_type": "markdown",
   "source": [
    "## Business Reccomendations:"
   ],
   "metadata": {
    "collapsed": false
   }
  },
  {
   "cell_type": "markdown",
   "source": [
    "Based off of my exploration I would recommend that we stop offering fiber optic to customers on month to month contracts as customers who check both of those boxes are very highly associated with churning. offering fiber optic to customers on longer contracts would help keep them with the company for longer however in order to keep them for the long haul we will have to either decrease the price of fiber optic or give fiber customers additional services to add value to their contracts."
   ],
   "metadata": {
    "collapsed": false
   }
  },
  {
   "cell_type": "code",
   "execution_count": 32,
   "outputs": [],
   "source": [],
   "metadata": {
    "collapsed": false
   }
  }
 ],
 "metadata": {
  "kernelspec": {
   "display_name": "Python 3 (ipykernel)",
   "language": "python",
   "name": "python3"
  },
  "language_info": {
   "codemirror_mode": {
    "name": "ipython",
    "version": 3
   },
   "file_extension": ".py",
   "mimetype": "text/x-python",
   "name": "python",
   "nbconvert_exporter": "python",
   "pygments_lexer": "ipython3",
   "version": "3.9.12"
  }
 },
 "nbformat": 4,
 "nbformat_minor": 5
}
